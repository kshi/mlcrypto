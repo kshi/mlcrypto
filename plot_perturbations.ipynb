{
 "cells": [
  {
   "cell_type": "code",
   "execution_count": 1,
   "metadata": {},
   "outputs": [],
   "source": [
    "import numpy as np\n",
    "import matplotlib.pyplot as plt"
   ]
  },
  {
   "cell_type": "code",
   "execution_count": 25,
   "metadata": {},
   "outputs": [],
   "source": [
    "D = np.genfromtxt(\"results/cw_perturbations.csv\", delimiter=\",\")"
   ]
  },
  {
   "cell_type": "code",
   "execution_count": 19,
   "metadata": {},
   "outputs": [],
   "source": [
    "D = np.genfromtxt(\"results/substitute_perturbations.csv\", delimiter=\",\")"
   ]
  },
  {
   "cell_type": "code",
   "execution_count": 20,
   "metadata": {},
   "outputs": [
    {
     "data": {
      "text/plain": [
       "(9850, 100)"
      ]
     },
     "execution_count": 20,
     "metadata": {},
     "output_type": "execute_result"
    }
   ],
   "source": [
    "D.shape"
   ]
  },
  {
   "cell_type": "code",
   "execution_count": 27,
   "metadata": {},
   "outputs": [
    {
     "data": {
      "image/png": "[encoded data removed]",
      "text/plain": [
       "<Figure size 432x288 with 9 Axes>"
      ]
     },
     "metadata": {},
     "output_type": "display_data"
    }
   ],
   "source": [
    "f, ((z1, z2, z3), (z4, z5, z6), (z7, z8, z9)) = plt.subplots(3, 3, sharex='col', sharey='row')\n",
    "z1.hist(D[10,:])\n",
    "z2.hist(D[20,:])\n",
    "z3.hist(D[30,:])\n",
    "z4.hist(D[40,:])\n",
    "z5.hist(D[50,:])\n",
    "z6.hist(D[60,:])\n",
    "z7.hist(D[70,:])\n",
    "z8.hist(D[80,:])\n",
    "z9.hist(D[90,:])\n",
    "plt.savefig('figures/cw_perturbations.png')"
   ]
  },
  {
   "cell_type": "code",
   "execution_count": 22,
   "metadata": {},
   "outputs": [
    {
     "data": {
      "image/png": "[encoded data removed]",
      "text/plain": [
       "<Figure size 432x288 with 9 Axes>"
      ]
     },
     "metadata": {},
     "output_type": "display_data"
    }
   ],
   "source": [
    "f, ((z1, z2, z3), (z4, z5, z6), (z7, z8, z9)) = plt.subplots(3, 3, sharex='col', sharey='row')\n",
    "z1.hist(D[1000,:])\n",
    "z2.hist(D[2000,:])\n",
    "z3.hist(D[3000,:])\n",
    "z4.hist(D[4000,:])\n",
    "z5.hist(D[5000,:])\n",
    "z6.hist(D[6000,:])\n",
    "z7.hist(D[7000,:])\n",
    "z8.hist(D[8000,:])\n",
    "z9.hist(D[9000,:])\n",
    "plt.savefig('figures/substitute_perturbations.png')"
   ]
  },
  {
   "cell_type": "code",
   "execution_count": 7,
   "metadata": {},
   "outputs": [],
   "source": [
    "T = np.genfromtxt(\"results/codeword_length.csv\", delimiter=\",\")\n",
    "baseline = T[1,:]\n",
    "T = T[2:,:]"
   ]
  },
  {
   "cell_type": "code",
   "execution_count": 8,
   "metadata": {},
   "outputs": [
    {
     "data": {
      "text/plain": [
       "array([[ 8.        ,  0.98609137,  0.64020305],\n",
       "       [16.        ,  0.99137056,  0.71624365],\n",
       "       [32.        ,  0.99228426,  0.73380711],\n",
       "       [64.        ,  0.99299492,  0.78984772]])"
      ]
     },
     "execution_count": 8,
     "metadata": {},
     "output_type": "execute_result"
    }
   ],
   "source": [
    "T"
   ]
  },
  {
   "cell_type": "code",
   "execution_count": 11,
   "metadata": {},
   "outputs": [
    {
     "data": {
      "text/plain": [
       "[<matplotlib.lines.Line2D at 0x7fc6e1c13e48>]"
      ]
     },
     "execution_count": 11,
     "metadata": {},
     "output_type": "execute_result"
    },
    {
     "data": {
      "image/png": "[encoded data removed]",
      "text/plain": [
       "<Figure size 432x288 with 1 Axes>"
      ]
     },
     "metadata": {},
     "output_type": "display_data"
    }
   ],
   "source": [
    "plt.plot(T[:,0], T[:,1])\n",
    "plt.plot(T[:,0], T[:,2])"
   ]
  },
  {
   "cell_type": "code",
   "execution_count": null,
   "metadata": {},
   "outputs": [],
   "source": []
  }
 ],
 "metadata": {
  "kernelspec": {
   "display_name": "Python 3",
   "language": "python",
   "name": "python3"
  },
  "language_info": {
   "codemirror_mode": {
    "name": "ipython",
    "version": 3
   },
   "file_extension": ".py",
   "mimetype": "text/x-python",
   "name": "python",
   "nbconvert_exporter": "python",
   "pygments_lexer": "ipython3",
   "version": "3.5.2"
  }
 },
 "nbformat": 4,
 "nbformat_minor": 2
}
