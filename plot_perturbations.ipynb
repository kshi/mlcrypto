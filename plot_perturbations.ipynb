{
 "cells": [
  {
   "cell_type": "code",
   "execution_count": 1,
   "metadata": {},
   "outputs": [],
   "source": [
    "import numpy as np\n",
    "import matplotlib.pyplot as plt"
   ]
  },
  {
   "cell_type": "code",
   "execution_count": 17,
   "metadata": {},
   "outputs": [],
   "source": [
    "D = np.genfromtxt(\"results/cw_perturbations.csv\", delimiter=\",\")"
   ]
  },
  {
   "cell_type": "code",
   "execution_count": 21,
   "metadata": {},
   "outputs": [],
   "source": [
    "D = np.genfromtxt(\"results/substitute_perturbations.csv\", delimiter=\",\")"
   ]
  },
  {
   "cell_type": "code",
   "execution_count": 22,
   "metadata": {},
   "outputs": [
    {
     "data": {
      "text/plain": [
       "(9850, 100)"
      ]
     },
     "execution_count": 22,
     "metadata": {},
     "output_type": "execute_result"
    }
   ],
   "source": [
    "D.shape"
   ]
  },
  {
   "cell_type": "code",
   "execution_count": 23,
   "metadata": {},
   "outputs": [
    {
     "data": {
      "text/plain": [
       "(array([ 2.,  2., 12., 28.,  6.,  0., 24., 21.,  3.,  2.]),\n",
       " array([-0.37235463, -0.30038928, -0.22842394, -0.1564586 , -0.08449326,\n",
       "        -0.01252791,  0.05943743,  0.13140277,  0.20336812,  0.27533346,\n",
       "         0.3472988 ]),\n",
       " <a list of 10 Patch objects>)"
      ]
     },
     "execution_count": 23,
     "metadata": {},
     "output_type": "execute_result"
    },
    {
     "data": {
      "image/png": "[encoded data removed]",
      "text/plain": [
       "<Figure size 432x288 with 1 Axes>"
      ]
     },
     "metadata": {},
     "output_type": "display_data"
    }
   ],
   "source": [
    "plt.hist(D[80,:], 10)"
   ]
  },
  {
   "cell_type": "code",
   "execution_count": 24,
   "metadata": {},
   "outputs": [
    {
     "data": {
      "text/plain": [
       "array([ 0.1167486 , -0.22022307, -0.11149001,  0.09671906, -0.08961111,\n",
       "        0.13788328,  0.12130506, -0.15270662, -0.1020658 ,  0.19141257,\n",
       "       -0.11673468, -0.14489722, -0.07787478, -0.1146962 ,  0.11184497,\n",
       "       -0.14747089,  0.08430268, -0.13429612,  0.1402207 ,  0.12634227,\n",
       "        0.08272222, -0.12191385, -0.07611972,  0.3472988 , -0.24776882,\n",
       "       -0.12956744, -0.09725857,  0.18419696, -0.07536358,  0.113158  ,\n",
       "        0.14790735, -0.14731818, -0.20132667, -0.13386506, -0.21199942,\n",
       "       -0.32319766, -0.10534376,  0.10132631,  0.09134451, -0.09473532,\n",
       "       -0.12947267,  0.11926149,  0.15511635,  0.09800091, -0.17045623,\n",
       "        0.08143688, -0.06621498, -0.10671043, -0.21487129, -0.14040178,\n",
       "        0.1078362 , -0.1897096 ,  0.1458625 ,  0.13144879, -0.09480399,\n",
       "        0.19020814, -0.10801411, -0.13472581, -0.16522372,  0.08511724,\n",
       "       -0.15570092,  0.08742207,  0.25573227,  0.15443613,  0.17119864,\n",
       "        0.11063537,  0.13225104,  0.26911932, -0.11571187, -0.14178866,\n",
       "        0.32149076,  0.1385465 , -0.1899249 ,  0.22046405,  0.13472879,\n",
       "       -0.19420826, -0.20650172,  0.14898956, -0.11235726, -0.1956203 ,\n",
       "       -0.12427497,  0.1511772 ,  0.14543717,  0.11354713,  0.13001612,\n",
       "       -0.10703504,  0.14002103,  0.15144148,  0.0825804 ,  0.1119303 ,\n",
       "        0.11262487,  0.16581777,  0.1449867 ,  0.10618795, -0.16806513,\n",
       "        0.11088794, -0.23551887, -0.37235463, -0.06735212, -0.07890874])"
      ]
     },
     "execution_count": 24,
     "metadata": {},
     "output_type": "execute_result"
    }
   ],
   "source": [
    "D[80,:]"
   ]
  },
  {
   "cell_type": "code",
   "execution_count": null,
   "metadata": {},
   "outputs": [],
   "source": []
  }
 ],
 "metadata": {
  "kernelspec": {
   "display_name": "Python 3",
   "language": "python",
   "name": "python3"
  },
  "language_info": {
   "codemirror_mode": {
    "name": "ipython",
    "version": 3
   },
   "file_extension": ".py",
   "mimetype": "text/x-python",
   "name": "python",
   "nbconvert_exporter": "python",
   "pygments_lexer": "ipython3",
   "version": "3.5.2"
  }
 },
 "nbformat": 4,
 "nbformat_minor": 2
}
