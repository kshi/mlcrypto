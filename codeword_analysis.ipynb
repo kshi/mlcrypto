{
 "cells": [
  {
   "cell_type": "code",
   "execution_count": 4,
   "metadata": {},
   "outputs": [],
   "source": [
    "import numpy as np\n",
    "import pandas as pd\n",
    "import matplotlib.pyplot as plt"
   ]
  },
  {
   "cell_type": "code",
   "execution_count": 18,
   "metadata": {},
   "outputs": [],
   "source": [
    "cw = pd.read_csv(\"results/128_class_codewords.csv\")\n",
    "codewords = cw.values[:, 1:]\n",
    "adv_pc = pd.read_csv(\"results/128_adv_predicted_codeword.csv\", index_col=False)\n",
    "adv_labels = pd.read_csv(\"results/128_adv_hamming_distances.csv\")\n",
    "true_pc = pd.read_csv(\"results/128_predicted_codeword.csv\", index_col=False)\n",
    "true_labels = pd.read_csv(\"results/128_hamming_distances.csv\")"
   ]
  },
  {
   "cell_type": "code",
   "execution_count": 23,
   "metadata": {},
   "outputs": [
    {
     "data": {
      "text/plain": [
       "array([65., 72., 72., 53., 60., 63., 56., 58., 63.,  0.])"
      ]
     },
     "execution_count": 23,
     "metadata": {},
     "output_type": "execute_result"
    }
   ],
   "source": [
    "labels.loc[0].values[1:11]"
   ]
  },
  {
   "cell_type": "code",
   "execution_count": 24,
   "metadata": {},
   "outputs": [],
   "source": [
    "def get_accuracies(hamming_ratio, codeword_length, labels):\n",
    "    num_correct_pred = 0\n",
    "    num_abstain = 0\n",
    "    num_incorrect_pred = 0\n",
    "    for i in range(9850):\n",
    "        #x = pc.loc[i].values[1:]\n",
    "        #dx = np.sum(np.abs(codewords - x), 1)\n",
    "        dx = labels.loc[i].values[1:11]\n",
    "        idy = labels.loc[i].values[11:]\n",
    "        i = np.argmin(dx)\n",
    "        if dx[i] <  codeword_length * hamming_ratio:\n",
    "            if idy[i] == 1:\n",
    "                num_correct_pred += 1\n",
    "            else:\n",
    "                num_incorrect_pred += 1\n",
    "        else:\n",
    "            num_abstain += 1\n",
    "    return num_correct_pred, num_abstain, num_incorrect_pred"
   ]
  },
  {
   "cell_type": "code",
   "execution_count": 26,
   "metadata": {},
   "outputs": [
    {
     "data": {
      "text/plain": [
       "(4795, 4842, 213)"
      ]
     },
     "execution_count": 26,
     "metadata": {},
     "output_type": "execute_result"
    }
   ],
   "source": [
    "get_accuracies(1/8, 128, adv_labels)"
   ]
  },
  {
   "cell_type": "code",
   "execution_count": 27,
   "metadata": {},
   "outputs": [
    {
     "data": {
      "text/plain": [
       "(9687, 136, 27)"
      ]
     },
     "execution_count": 27,
     "metadata": {},
     "output_type": "execute_result"
    }
   ],
   "source": [
    "get_accuracies(1/8, 128, true_labels)"
   ]
  },
  {
   "cell_type": "code",
   "execution_count": 33,
   "metadata": {},
   "outputs": [],
   "source": [
    "accuracy = []\n",
    "adv_accuracy = []\n",
    "ratios = np.arange(0.01, 0.5, 0.01)\n",
    "for hr in ratios:\n",
    "    x1, y1, z1 = get_accuracies(hr, 128, labels)\n",
    "    x2, y2, z2 = get_accuracies(hr, 128, adv_labels)\n",
    "    accuracy.append( x1 / (x1 + y1 + z1) )\n",
    "    adv_accuracy.append( (x2 + y2) / (x2 + y2 + z2) )"
   ]
  },
  {
   "cell_type": "code",
   "execution_count": 30,
   "metadata": {},
   "outputs": [
    {
     "data": {
      "text/plain": [
       "array([0.1 , 0.11, 0.12, 0.13, 0.14, 0.15, 0.16, 0.17, 0.18, 0.19, 0.2 ,\n",
       "       0.21, 0.22, 0.23, 0.24, 0.25, 0.26, 0.27, 0.28, 0.29, 0.3 , 0.31,\n",
       "       0.32, 0.33, 0.34, 0.35, 0.36, 0.37, 0.38, 0.39, 0.4 , 0.41, 0.42,\n",
       "       0.43, 0.44, 0.45, 0.46, 0.47, 0.48, 0.49])"
      ]
     },
     "execution_count": 30,
     "metadata": {},
     "output_type": "execute_result"
    }
   ],
   "source": [
    "np.arange(0.1, 0.5, 0.01)"
   ]
  },
  {
   "cell_type": "code",
   "execution_count": 37,
   "metadata": {},
   "outputs": [
    {
     "data": {
      "text/plain": [
       "Text(0.5, 1.0, 'Accuracy vs robustness tradeoff, codeword length 128')"
      ]
     },
     "execution_count": 37,
     "metadata": {},
     "output_type": "execute_result"
    },
    {
     "data": {
      "image/png": "[encoded data removed]",
      "text/plain": [
       "<Figure size 432x288 with 1 Axes>"
      ]
     },
     "metadata": {},
     "output_type": "display_data"
    }
   ],
   "source": [
    "plt.plot(ratios, accuracy)\n",
    "plt.plot(ratios, adv_accuracy)\n",
    "plt.xlabel('Hamming distance ratio')\n",
    "plt.ylabel('Accuracy')\n",
    "plt.title('Accuracy vs robustness tradeoff, codeword length 128')\n",
    "plt.savefig('figures/128_hamming_ratio.')"
   ]
  },
  {
   "cell_type": "code",
   "execution_count": null,
   "metadata": {},
   "outputs": [],
   "source": []
  }
 ],
 "metadata": {
  "kernelspec": {
   "display_name": "Python 3",
   "language": "python",
   "name": "python3"
  },
  "language_info": {
   "codemirror_mode": {
    "name": "ipython",
    "version": 3
   },
   "file_extension": ".py",
   "mimetype": "text/x-python",
   "name": "python",
   "nbconvert_exporter": "python",
   "pygments_lexer": "ipython3",
   "version": "3.5.2"
  }
 },
 "nbformat": 4,
 "nbformat_minor": 2
}
